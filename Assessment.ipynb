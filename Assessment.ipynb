{
 "cells": [
  {
   "cell_type": "code",
   "execution_count": 2,
   "id": "8bfd7687",
   "metadata": {},
   "outputs": [
    {
     "name": "stdout",
     "output_type": "stream",
     "text": [
      "Collecting PyPDF2\n",
      "  Downloading pypdf2-3.0.1-py3-none-any.whl (232 kB)\n",
      "Requirement already satisfied: typing_extensions>=3.10.0.0 in c:\\users\\umair\\anaconda3\\lib\\site-packages (from PyPDF2) (4.0.1)\n",
      "Installing collected packages: PyPDF2\n",
      "Successfully installed PyPDF2-3.0.1\n",
      "Note: you may need to restart the kernel to use updated packages.\n"
     ]
    }
   ],
   "source": [
    "pip install PyPDF2"
   ]
  },
  {
   "cell_type": "code",
   "execution_count": 4,
   "id": "8378f7e3",
   "metadata": {},
   "outputs": [],
   "source": [
    "import re\n",
    "import PyPDF2\n",
    "\n",
    "def read_pdf(file_path):\n",
    "    with open(file_path, 'rb') as file:\n",
    "        reader = PyPDF2.PdfReader(file)\n",
    "        text = ''\n",
    "        for page in reader.pages:\n",
    "            text += page.extract_text()\n",
    "    return text\n",
    "\n",
    "def preprocess_text(text):\n",
    "    text = text.lower()\n",
    "    text = re.sub(r'[^a-zA-Z0-9\\s]', '', text)\n",
    "    text = re.sub(r'\\s+', ' ', text)\n",
    "    return text\n",
    "\n",
    "document_text = read_pdf('Umair_Ahmed.pdf')\n",
    "preprocessed_text = preprocess_text(document_text)\n"
   ]
  },
  {
   "cell_type": "code",
   "execution_count": 5,
   "id": "6e926355",
   "metadata": {},
   "outputs": [],
   "source": [
    "def split_into_chunks(text, chunk_size=500):\n",
    "    chunks = []\n",
    "    words = text.split()\n",
    "    for i in range(0, len(words), chunk_size):\n",
    "        chunk = ' '.join(words[i:i+chunk_size])\n",
    "        chunks.append(chunk)\n",
    "    return chunks\n",
    "\n",
    "document_chunks = split_into_chunks(preprocessed_text)\n"
   ]
  },
  {
   "cell_type": "code",
   "execution_count": 9,
   "id": "f23f81d5",
   "metadata": {},
   "outputs": [
    {
     "name": "stdout",
     "output_type": "stream",
     "text": [
      "Collecting pinecone-clientNote: you may need to restart the kernel to use updated packages.\n",
      "  Downloading pinecone_client-3.0.2-py3-none-any.whl (201 kB)\n",
      "Requirement already satisfied: urllib3>=1.26.0 in c:\\users\\umair\\anaconda3\\lib\\site-packages (from pinecone-client) (1.26.4)\n",
      "Requirement already satisfied: typing-extensions>=3.7.4 in c:\\users\\umair\\anaconda3\\lib\\site-packages (from pinecone-client) (4.0.1)\n",
      "\n",
      "Collecting tqdm>=4.64.1\n",
      "  Downloading tqdm-4.66.1-py3-none-any.whl (78 kB)\n",
      "Requirement already satisfied: certifi>=2019.11.17 in c:\\users\\umair\\anaconda3\\lib\\site-packages (from pinecone-client) (2020.12.5)\n",
      "Requirement already satisfied: colorama in c:\\users\\umair\\anaconda3\\lib\\site-packages (from tqdm>=4.64.1->pinecone-client) (0.4.4)\n",
      "Installing collected packages: tqdm, pinecone-client\n",
      "  Attempting uninstall: tqdm\n",
      "    Found existing installation: tqdm 4.59.0\n",
      "    Uninstalling tqdm-4.59.0:\n",
      "      Successfully uninstalled tqdm-4.59.0\n",
      "Successfully installed pinecone-client-3.0.2 tqdm-4.66.1\n"
     ]
    }
   ],
   "source": [
    "pip install pinecone-client"
   ]
  },
  {
   "cell_type": "code",
   "execution_count": null,
   "id": "08ac4b77",
   "metadata": {},
   "outputs": [],
   "source": [
    "import pinecone\n",
    "\n",
    "pinecone.init(api_key='<YOUR_API_KEY>')\n",
    "index = pinecone.Index(\"document_chunks_index\")\n",
    "\n",
    "# Assuming you have a function to convert text to embeddings called text_to_embedding()\n",
    "# Replace this with the actual function or technique you're using for embedding\n",
    "def text_to_embedding(text):\n",
    "    # Your embedding logic here\n",
    "    return embedding\n",
    "\n",
    "for i, chunk in enumerate(document_chunks):\n",
    "    embedding = text_to_embedding(chunk)\n",
    "    index.upsert(str(i), embedding)\n"
   ]
  },
  {
   "cell_type": "code",
   "execution_count": null,
   "id": "75318260",
   "metadata": {},
   "outputs": [],
   "source": [
    "def process_query(query, index, num_results=3):\n",
    "    query_embedding = text_to_embedding(preprocess_text(query))\n",
    "    results = index.query(queries=[query_embedding], top_k=num_results)\n",
    "    relevant_chunk_indices = [int(result.id) for result in results]\n",
    "    return relevant_chunk_indices\n",
    "\n",
    "def chatbot(query):\n",
    "    relevant_chunk_indices = process_query(query, index)\n",
    "    for index in relevant_chunk_indices:\n",
    "        if query in document_chunks[index]:\n",
    "            return document_chunks[index]\n",
    "    return \"I don't know the answer.\"\n",
    "\n",
    "# Example usage:\n",
    "user_query = \"What is the capital of France?\"\n",
    "response = chatbot(user_query)\n",
    "print(response)\n"
   ]
  },
  {
   "cell_type": "code",
   "execution_count": null,
   "id": "de8c0e87",
   "metadata": {},
   "outputs": [],
   "source": []
  }
 ],
 "metadata": {
  "kernelspec": {
   "display_name": "Python 3",
   "language": "python",
   "name": "python3"
  },
  "language_info": {
   "codemirror_mode": {
    "name": "ipython",
    "version": 3
   },
   "file_extension": ".py",
   "mimetype": "text/x-python",
   "name": "python",
   "nbconvert_exporter": "python",
   "pygments_lexer": "ipython3",
   "version": "3.8.8"
  }
 },
 "nbformat": 4,
 "nbformat_minor": 5
}
